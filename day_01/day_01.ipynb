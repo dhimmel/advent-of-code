{
 "cells": [
  {
   "cell_type": "markdown",
   "metadata": {},
   "source": [
    "# Day 1: Sonar Sweep\n",
    "\n",
    "<https://adventofcode.com/2021/day/1>"
   ]
  },
  {
   "cell_type": "code",
   "execution_count": 1,
   "metadata": {},
   "outputs": [],
   "source": [
    "%load_ext autoreload\n",
    "%autoreload 2"
   ]
  },
  {
   "cell_type": "code",
   "execution_count": 2,
   "metadata": {},
   "outputs": [],
   "source": [
    "import pandas as pd"
   ]
  },
  {
   "cell_type": "code",
   "execution_count": 3,
   "metadata": {},
   "outputs": [],
   "source": [
    "def read_input(path: str) -> pd.Series:\n",
    "    return pd.read_csv(path, names=[\"measurement\"]).measurement\n",
    "\n",
    "def get_number_of_increases(values: pd.Series) -> int:\n",
    "    return (values.diff() > 0).sum()\n",
    "\n",
    "def get_rolling_number_of_increases(values: pd.Series) -> int:\n",
    "    rolling_values = values.rolling(window=3).sum().dropna()\n",
    "    return get_number_of_increases(rolling_values)"
   ]
  },
  {
   "cell_type": "code",
   "execution_count": 4,
   "metadata": {},
   "outputs": [],
   "source": [
    "test_values = read_input(\"test_input.txt\")\n",
    "assert len(test_values) == 10\n",
    "assert get_number_of_increases(test_values) == 7\n",
    "assert get_rolling_number_of_increases(test_values) == 5"
   ]
  },
  {
   "cell_type": "code",
   "execution_count": 5,
   "metadata": {},
   "outputs": [
    {
     "data": {
      "text/plain": [
       "2000"
      ]
     },
     "execution_count": 5,
     "metadata": {},
     "output_type": "execute_result"
    }
   ],
   "source": [
    "values = read_input(\"input.txt\")\n",
    "len(values)"
   ]
  },
  {
   "cell_type": "code",
   "execution_count": 6,
   "metadata": {},
   "outputs": [
    {
     "data": {
      "text/plain": [
       "1581"
      ]
     },
     "execution_count": 6,
     "metadata": {},
     "output_type": "execute_result"
    }
   ],
   "source": [
    "# part 1 answer\n",
    "get_number_of_increases(values)"
   ]
  },
  {
   "cell_type": "code",
   "execution_count": 7,
   "metadata": {},
   "outputs": [
    {
     "data": {
      "text/plain": [
       "1618"
      ]
     },
     "execution_count": 7,
     "metadata": {},
     "output_type": "execute_result"
    }
   ],
   "source": [
    "# part 2 answer\n",
    "get_rolling_number_of_increases(values)"
   ]
  }
 ],
 "metadata": {
  "interpreter": {
   "hash": "1280119d78aa999ba1650dc28306825a43f93d20884220ecd201ee538a349219"
  },
  "kernelspec": {
   "display_name": "Python 3.9.0 64-bit ('base': conda)",
   "language": "python",
   "name": "python3"
  },
  "language_info": {
   "codemirror_mode": {
    "name": "ipython",
    "version": 3
   },
   "file_extension": ".py",
   "mimetype": "text/x-python",
   "name": "python",
   "nbconvert_exporter": "python",
   "pygments_lexer": "ipython3",
   "version": "3.9.0"
  },
  "orig_nbformat": 4
 },
 "nbformat": 4,
 "nbformat_minor": 2
}
